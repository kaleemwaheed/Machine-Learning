{
 "cells": [
  {
   "cell_type": "markdown",
   "metadata": {},
   "source": [
    "## Gradient Descent for Mnist Dataset"
   ]
  },
  {
   "cell_type": "code",
   "execution_count": 1,
   "metadata": {},
   "outputs": [
    {
     "name": "stderr",
     "output_type": "stream",
     "text": [
      "Using TensorFlow backend.\n"
     ]
    }
   ],
   "source": [
    "from keras.datasets import mnist\n",
    "import numpy as np\n",
    "import pandas as pd\n",
    "\n",
    "import math\n",
    "from sklearn.metrics import accuracy_score\n",
    "\n",
    "(x_train, y_train), (x_test, y_test) = mnist.load_data()\n",
    "\n",
    "x_train = x_train.reshape(-1,784)\n",
    "x_test = x_test.reshape(-1,784)\n",
    "x_train = np.insert(x_train, 0, values=1, axis=1)\n",
    "x_test = np.insert(x_test, 0, values=1, axis=1)\n",
    "x_train = x_train.astype('float64')\n",
    "#y_train = y_train.astype('float64')\n",
    "x_test = x_test.astype('float64')\n",
    "#y_test = y_test.astype('float64')\n",
    "x_train /= 255\n",
    "x_test /= 255"
   ]
  },
  {
   "cell_type": "code",
   "execution_count": 2,
   "metadata": {},
   "outputs": [],
   "source": [
    "M = 785\n",
    "eta = 0.005\n",
    "epochs = 20\n",
    "NoOfRecords = 60000\n",
    "TotalModels = 10\n",
    "TotalPredictions = {}"
   ]
  },
  {
   "cell_type": "code",
   "execution_count": 3,
   "metadata": {},
   "outputs": [],
   "source": [
    "def prediction(X,W):\n",
    "    pred_val = np.dot(W,X)\n",
    "    return pred_val\n",
    "#     if pred_val >= 0: return 1\n",
    "#     else: return -1"
   ]
  },
  {
   "cell_type": "code",
   "execution_count": 4,
   "metadata": {},
   "outputs": [],
   "source": [
    "def predictionForTest(X,W):\n",
    "    pred_val = np.dot(W,X)\n",
    "    if pred_val >= 0: return 1\n",
    "    else: return -1"
   ]
  },
  {
   "cell_type": "code",
   "execution_count": 5,
   "metadata": {},
   "outputs": [],
   "source": [
    "def PredictFor(model):\n",
    "    \n",
    "    pred = []\n",
    "    W = np.random.randn(M)\n",
    "    y = np.copy(y_train)\n",
    "    y[y != model] = -1\n",
    "    y[y == model] = 1\n",
    "    \n",
    "    for epoch in range(epochs):\n",
    "        for i in range(NoOfRecords):\n",
    "            gradients = 2 * x_train[i].T.dot(prediction(x_train[i],W) - y[i])\n",
    "            W = W - eta * gradients\n",
    "    \n",
    "    for sample in range(10000):\n",
    "        pred.append(predictionForTest(x_test[sample],W))\n",
    "\n",
    "    y_pred = np.array(pred)\n",
    "    TotalPredictions[model] = y_pred"
   ]
  },
  {
   "cell_type": "code",
   "execution_count": 6,
   "metadata": {},
   "outputs": [],
   "source": [
    "for model in range(TotalModels):\n",
    "    PredictFor(model)"
   ]
  },
  {
   "cell_type": "markdown",
   "metadata": {},
   "source": [
    "### Accuracy"
   ]
  },
  {
   "cell_type": "code",
   "execution_count": 7,
   "metadata": {},
   "outputs": [
    {
     "name": "stdout",
     "output_type": "stream",
     "text": [
      "Accuracy = 0.9601\n"
     ]
    }
   ],
   "source": [
    "score = 0\n",
    "for model in range(TotalModels):\n",
    "\n",
    "    TotalPredictions[model][TotalPredictions[model] == 1] = model\n",
    "    res = accuracy_score(y_test, TotalPredictions[model], normalize=False)\n",
    "    score += res\n",
    "    TotalPredictions[model][TotalPredictions[model] == model] = 1\n",
    "    \n",
    "accuracy = score/10000\n",
    "print(\"Accuracy = \"+str(accuracy))"
   ]
  },
  {
   "cell_type": "markdown",
   "metadata": {},
   "source": [
    "## For Urban Sound Dataset"
   ]
  },
  {
   "cell_type": "code",
   "execution_count": 62,
   "metadata": {},
   "outputs": [],
   "source": [
    "# feature extractoring and preprocessing data\n",
    "import librosa\n",
    "import pandas as pd\n",
    "import numpy as np\n",
    "import matplotlib.pyplot as plt\n",
    "%matplotlib inline\n",
    "import os\n",
    "from PIL import Image\n",
    "import pathlib\n",
    "import wave, os, glob\n",
    "import csv\n",
    "\n",
    "# Preprocessing\n",
    "from sklearn.model_selection import train_test_split\n",
    "from sklearn.preprocessing import LabelEncoder, StandardScaler\n",
    "\n",
    "#Keras\n",
    "import keras\n",
    "\n",
    "import warnings\n",
    "warnings.filterwarnings('ignore')"
   ]
  },
  {
   "cell_type": "code",
   "execution_count": 63,
   "metadata": {},
   "outputs": [],
   "source": [
    "import os\n",
    "import pandas as pd\n",
    "import librosa.display\n",
    "import glob \n",
    "import librosa\n",
    "import numpy as np\n",
    "# Preprocessing\n",
    "from sklearn.model_selection import train_test_split\n",
    "from sklearn.preprocessing import LabelEncoder, StandardScaler\n",
    "from sklearn.metrics import accuracy_score"
   ]
  },
  {
   "cell_type": "code",
   "execution_count": 64,
   "metadata": {},
   "outputs": [],
   "source": [
    "def load_sound_files(train_path, test_path):\n",
    "    train = []\n",
    "    test = []\n",
    "    for fp in train_path:\n",
    "        path=os.getcwd()+\"/train2/Train/\"+fp\n",
    "        print(path)\n",
    "        try:\n",
    "          # here kaiser_fast is a technique used for faster extraction\n",
    "          X, sample_rate = librosa.load(path, res_type='kaiser_fast') \n",
    "          # we extract mfcc feature from data\n",
    "\n",
    "          mfccs = np.mean(librosa.feature.mfcc(y=X, sr=sample_rate, n_mfcc=40).T,axis=0)\n",
    "          train.append(mfccs)\n",
    "        except Exception as e:\n",
    "            print(\"Error encountered while parsing file: \", fp)\n",
    "            return None, None\n",
    "    for fp in test_path:\n",
    "        path=os.getcwd()+\"/test2/Test/\"+fp\n",
    "        print(path)\n",
    "        try:\n",
    "          # here kaiser_fast is a technique used for faster extraction\n",
    "          X, sample_rate = librosa.load(path, res_type='kaiser_fast') \n",
    "          # we extract mfcc feature from data\n",
    "\n",
    "          mfccs = np.mean(librosa.feature.mfcc(y=X, sr=sample_rate, n_mfcc=40).T,axis=0)\n",
    "          test.append(mfccs)\n",
    "        except Exception as e:\n",
    "            print(\"Error encountered while parsing file: \", fp)\n",
    "            return None, None\n",
    "\n",
    "    return train, test"
   ]
  },
  {
   "cell_type": "code",
   "execution_count": 65,
   "metadata": {},
   "outputs": [],
   "source": [
    "TrainPath = './train2/Train/'\n",
    "TestPath = './test2/Test/'\n",
    "Trainfiles = []\n",
    "\n",
    "for filename in glob.glob(os.path.join(TrainPath, '*.wav')):\n",
    "    Trainfiles.append(os.path.basename(filename))"
   ]
  },
  {
   "cell_type": "code",
   "execution_count": 66,
   "metadata": {},
   "outputs": [],
   "source": [
    "y_train = pd.read_csv('./train/train.csv')\n",
    "y_test = pd.read_csv('./test/test.csv')\n",
    "\n",
    "arr = y_train['Class'].unique()\n",
    "for i in range(len(arr)):\n",
    "    y_train['Class'][y_train['Class'] == arr[i]] = i\n",
    "\n",
    "y_train = np.array(y_train['Class'])\n",
    "\n",
    "List = y_train\n",
    "\n",
    "counter = 0\n",
    "for item in arr:\n",
    "    counter += 1\n",
    "    index = 0\n",
    "    for item2 in List:\n",
    "        if item == item2:\n",
    "            List[index] = counter\n",
    "        index += 1"
   ]
  },
  {
   "cell_type": "code",
   "execution_count": 67,
   "metadata": {},
   "outputs": [
    {
     "name": "stdout",
     "output_type": "stream",
     "text": [
      "C:\\Users\\Hussam7102\\Desktop\\ML Assignment/train2/Train/0.wav\n",
      "C:\\Users\\Hussam7102\\Desktop\\ML Assignment/train2/Train/1.wav\n",
      "C:\\Users\\Hussam7102\\Desktop\\ML Assignment/train2/Train/10.wav\n",
      "C:\\Users\\Hussam7102\\Desktop\\ML Assignment/train2/Train/11.wav\n",
      "C:\\Users\\Hussam7102\\Desktop\\ML Assignment/train2/Train/12.wav\n",
      "C:\\Users\\Hussam7102\\Desktop\\ML Assignment/train2/Train/15.wav\n",
      "C:\\Users\\Hussam7102\\Desktop\\ML Assignment/train2/Train/2.wav\n",
      "C:\\Users\\Hussam7102\\Desktop\\ML Assignment/train2/Train/20.wav\n",
      "C:\\Users\\Hussam7102\\Desktop\\ML Assignment/train2/Train/22.wav\n",
      "C:\\Users\\Hussam7102\\Desktop\\ML Assignment/train2/Train/24.wav\n",
      "C:\\Users\\Hussam7102\\Desktop\\ML Assignment/train2/Train/26.wav\n",
      "C:\\Users\\Hussam7102\\Desktop\\ML Assignment/train2/Train/27.wav\n",
      "C:\\Users\\Hussam7102\\Desktop\\ML Assignment/train2/Train/3.wav\n",
      "C:\\Users\\Hussam7102\\Desktop\\ML Assignment/train2/Train/36.wav\n",
      "C:\\Users\\Hussam7102\\Desktop\\ML Assignment/train2/Train/37.wav\n",
      "C:\\Users\\Hussam7102\\Desktop\\ML Assignment/train2/Train/38.wav\n",
      "C:\\Users\\Hussam7102\\Desktop\\ML Assignment/train2/Train/4.wav\n",
      "C:\\Users\\Hussam7102\\Desktop\\ML Assignment/train2/Train/40.wav\n",
      "C:\\Users\\Hussam7102\\Desktop\\ML Assignment/train2/Train/43.wav\n",
      "C:\\Users\\Hussam7102\\Desktop\\ML Assignment/train2/Train/44.wav\n",
      "C:\\Users\\Hussam7102\\Desktop\\ML Assignment/train2/Train/45.wav\n",
      "C:\\Users\\Hussam7102\\Desktop\\ML Assignment/train2/Train/46.wav\n",
      "C:\\Users\\Hussam7102\\Desktop\\ML Assignment/train2/Train/47.wav\n",
      "C:\\Users\\Hussam7102\\Desktop\\ML Assignment/train2/Train/48.wav\n",
      "C:\\Users\\Hussam7102\\Desktop\\ML Assignment/train2/Train/50.wav\n",
      "C:\\Users\\Hussam7102\\Desktop\\ML Assignment/train2/Train/52.wav\n",
      "C:\\Users\\Hussam7102\\Desktop\\ML Assignment/train2/Train/54.wav\n",
      "C:\\Users\\Hussam7102\\Desktop\\ML Assignment/train2/Train/56.wav\n",
      "C:\\Users\\Hussam7102\\Desktop\\ML Assignment/train2/Train/57.wav\n",
      "C:\\Users\\Hussam7102\\Desktop\\ML Assignment/train2/Train/59.wav\n",
      "C:\\Users\\Hussam7102\\Desktop\\ML Assignment/train2/Train/60.wav\n",
      "C:\\Users\\Hussam7102\\Desktop\\ML Assignment/train2/Train/63.wav\n",
      "C:\\Users\\Hussam7102\\Desktop\\ML Assignment/train2/Train/65.wav\n",
      "C:\\Users\\Hussam7102\\Desktop\\ML Assignment/train2/Train/67.wav\n",
      "C:\\Users\\Hussam7102\\Desktop\\ML Assignment/train2/Train/68.wav\n",
      "C:\\Users\\Hussam7102\\Desktop\\ML Assignment/train2/Train/71.wav\n",
      "C:\\Users\\Hussam7102\\Desktop\\ML Assignment/train2/Train/74.wav\n",
      "C:\\Users\\Hussam7102\\Desktop\\ML Assignment/train2/Train/76.wav\n",
      "C:\\Users\\Hussam7102\\Desktop\\ML Assignment/test2/Test/303.wav\n",
      "C:\\Users\\Hussam7102\\Desktop\\ML Assignment/test2/Test/304.wav\n",
      "C:\\Users\\Hussam7102\\Desktop\\ML Assignment/test2/Test/1100.wav\n"
     ]
    }
   ],
   "source": [
    "Testfiles = [\"303.wav\",\"304.wav\",\"1100.wav\"]\n",
    "y_test = [2,3,7]\n",
    "x_train, x_test= load_sound_files(Trainfiles,Testfiles)\n",
    "\n",
    "x_train = np.array(x_train)\n",
    "y_train = np.array(y_train)\n",
    "x_test = np.array(x_test)\n",
    "y_test = np.array(y_test)\n",
    "\n",
    "x_train = x_train.astype('float64')\n",
    "# y_train = y_train.astype('float64')\n",
    "x_train /= 255\n",
    "x_test /= 255\n",
    "\n",
    "NoOfExamples = x_train.shape[1]\n",
    "NoOfRecords = x_train.shape[0]\n",
    "learning_rate = 0.05\n",
    "epochs = 50\n",
    "#x = np.random.randint(0, 10, 10)\n",
    "pred = []"
   ]
  },
  {
   "cell_type": "code",
   "execution_count": 68,
   "metadata": {},
   "outputs": [],
   "source": [
    "def prediction(X,W):\n",
    "    pred_val = np.dot(W, X)\n",
    "#     print(pred_val)\n",
    "#     print(\"yes\")\n",
    "    if pred_val >= 0: return 1\n",
    "    else: return -1 "
   ]
  },
  {
   "cell_type": "code",
   "execution_count": 69,
   "metadata": {},
   "outputs": [],
   "source": [
    "def getPredictions(y):\n",
    "    for i in range(x_test.shape[0]):\n",
    "        if y[i] == 1:\n",
    "            print(i)"
   ]
  },
  {
   "cell_type": "code",
   "execution_count": 70,
   "metadata": {},
   "outputs": [],
   "source": [
    "def getNewY(y_train,model):\n",
    "    y = np.copy(y_train)\n",
    "    for i in range(NoOfRecords):\n",
    "        if y[i] == model: \n",
    "            y[i] = 1.0\n",
    "        else: \n",
    "            y[i] = -1.0\n",
    "\n",
    "    return y"
   ]
  },
  {
   "cell_type": "code",
   "execution_count": 71,
   "metadata": {},
   "outputs": [],
   "source": [
    "def getAccuracy(y,pred,model):\n",
    "    for sample in range(y.shape[0]):\n",
    "         if pred[sample] == 1:\n",
    "            pred[sample] = model       \n",
    "    s = accuracy_score(y, pred,normalize=False)\n",
    "    return s"
   ]
  },
  {
   "cell_type": "code",
   "execution_count": 72,
   "metadata": {},
   "outputs": [],
   "source": [
    "def PredictFor(model, pred):  \n",
    "    W = np.random.randn(NoOfExamples)\n",
    "    deltaW = 0\n",
    "    y = getNewY(y_train,model)\n",
    "    #print(y)\n",
    "    for epoch in range(epochs):\n",
    "        for i in range(NoOfRecords):\n",
    "            gradients = 2 * x_train[i].T.dot(prediction(x_train[i],W) - y[i])\n",
    "            W = W - learning_rate * gradients\n",
    "    \n",
    "    for i in range(x_test.shape[0]):\n",
    "        pred.append(prediction(x_test[i],W))\n",
    "        \n",
    "    return pred"
   ]
  },
  {
   "cell_type": "code",
   "execution_count": 73,
   "metadata": {},
   "outputs": [
    {
     "name": "stdout",
     "output_type": "stream",
     "text": [
      "score = \n",
      "1\n",
      "model = 2\n",
      "score = \n",
      "1\n",
      "model = 3\n",
      "score = \n",
      "1\n",
      "model = 7\n",
      "Total = 3\n",
      "Accuracy = 1.0\n"
     ]
    }
   ],
   "source": [
    "tn = 0\n",
    "total = 0\n",
    "\n",
    "history = []\n",
    "\n",
    "for i in y_train:\n",
    "    pred = []\n",
    "    y_pred = PredictFor(i, pred)\n",
    "    \n",
    "    score = getAccuracy(y_test,y_pred,i)\n",
    "    if score == 1:\n",
    "        if i in history:\n",
    "            continue\n",
    "        print(\"score = \")\n",
    "        print(str(score))\n",
    "        total += score    \n",
    "        history.append(i)\n",
    "        print(\"model = \"+ str(i))\n",
    "\n",
    "print(\"Total = \"+str(total))\n",
    "accuracy = total/3\n",
    "print(\"Accuracy = \"+str(accuracy))"
   ]
  },
  {
   "cell_type": "code",
   "execution_count": null,
   "metadata": {},
   "outputs": [],
   "source": []
  }
 ],
 "metadata": {
  "kernelspec": {
   "display_name": "Python 3",
   "language": "python",
   "name": "python3"
  },
  "language_info": {
   "codemirror_mode": {
    "name": "ipython",
    "version": 3
   },
   "file_extension": ".py",
   "mimetype": "text/x-python",
   "name": "python",
   "nbconvert_exporter": "python",
   "pygments_lexer": "ipython3",
   "version": "3.6.5"
  }
 },
 "nbformat": 4,
 "nbformat_minor": 2
}
